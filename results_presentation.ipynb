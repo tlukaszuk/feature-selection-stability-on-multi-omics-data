{
 "cells": [
  {
   "cell_type": "code",
   "execution_count": null,
   "metadata": {},
   "outputs": [],
   "source": [
    "import pandas as pd\n",
    "\n",
    "results_file = \"results/r_20240905_1215.csv\"\n",
    "\n",
    "df = pd.read_csv(results_file)\n",
    "df.head()"
   ]
  },
  {
   "cell_type": "code",
   "execution_count": null,
   "metadata": {},
   "outputs": [],
   "source": [
    "# ustalony dataset, wszystkie estimators\n",
    "# -- test_accuracy dla różnych omics\n",
    "# -- fss_nogueira dla różnych omics\n",
    "# -- srednia harmoniczna dla różnych omics\n",
    "\n",
    "import matplotlib.pyplot as plt\n",
    "import numpy as np\n",
    "\n",
    "barWidth = 0.1\n",
    "\n",
    "omics = list(df.omics.unique())\n",
    "ind = np.arange(len(omics))\n",
    "\n",
    "for dataset in df.dataset.unique():\n",
    "    df_dataset = df[df.dataset == dataset]\n",
    "    fig, axes = plt.subplots(3, 1, figsize = (10, 15))\n",
    "    ax_acc, ax_fss, ax_harm = axes\n",
    "    ax_acc.set_title(f\"Dataset: {dataset}\")\n",
    "    ax_acc.set_xlabel(\"Omics\")\n",
    "    ax_acc.set_ylabel(\"Accuracy\")\n",
    "    ax_acc.set_ylim([0, 1.0])\n",
    "    ax_fss.set_xlabel(\"Omics\")\n",
    "    ax_fss.set_ylabel(\"FSStability\")\n",
    "    ax_fss.set_ylim([0, 1.0])\n",
    "    ax_harm.set_xlabel(\"Omics\")\n",
    "    ax_harm.set_ylabel(\"Harm_mean\")\n",
    "    ax_harm.set_ylim([0, 1.0])\n",
    "    for i,estimator in enumerate(df_dataset.estimator.unique()):\n",
    "        df_dataset_estimator = df_dataset[df_dataset.estimator == estimator]\n",
    "        acc = np.array([df_dataset_estimator[df_dataset_estimator.omics == o].iloc[0].test_accuracy for o in omics])\n",
    "        fss = np.array([df_dataset_estimator[df_dataset_estimator.omics == o].iloc[0].fss_nogueira for o in omics])\n",
    "        harm = 2/(1/acc + 1/fss)\n",
    "        ax_acc.bar(\n",
    "            ind+i*barWidth, acc,\n",
    "            width = barWidth,\n",
    "            edgecolor = 'grey',\n",
    "            label = f'{estimator}'\n",
    "        )\n",
    "        ax_fss.bar(\n",
    "            ind+i*barWidth, fss,\n",
    "            width = barWidth,\n",
    "            edgecolor = 'grey',\n",
    "            label = f'{estimator}'\n",
    "        )\n",
    "        ax_harm.bar(\n",
    "            ind+i*barWidth, harm,\n",
    "            width = barWidth,\n",
    "            edgecolor = 'grey',\n",
    "            label = f'{estimator}'\n",
    "        )\n",
    "    ax_acc.set_xticks(ind+barWidth*len(ind)/2)\n",
    "    ax_acc.set_xticklabels(omics)\n",
    "    ax_acc.legend(loc='lower right')\n",
    "    ax_fss.set_xticks(ind+barWidth*len(ind)/2)\n",
    "    ax_fss.set_xticklabels(omics)\n",
    "    ax_harm.set_xticks(ind+barWidth*len(ind)/2)\n",
    "    ax_harm.set_xticklabels(omics)\n",
    "    fig.show()"
   ]
  }
 ],
 "metadata": {
  "kernelspec": {
   "display_name": "Python 3",
   "language": "python",
   "name": "python3"
  },
  "language_info": {
   "codemirror_mode": {
    "name": "ipython",
    "version": 3
   },
   "file_extension": ".py",
   "mimetype": "text/x-python",
   "name": "python",
   "nbconvert_exporter": "python",
   "pygments_lexer": "ipython3",
   "version": "3.9.7"
  }
 },
 "nbformat": 4,
 "nbformat_minor": 2
}
