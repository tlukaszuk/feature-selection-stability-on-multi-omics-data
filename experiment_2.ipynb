{
 "cells": [
  {
   "cell_type": "code",
   "execution_count": 2,
   "metadata": {},
   "outputs": [
    {
     "name": "stdout",
     "output_type": "stream",
     "text": [
      "COAD\t: (191, 99521)\n"
     ]
    }
   ],
   "source": [
    "import pandas as pd\n",
    "\n",
    "datasets = {\n",
    "    name: pd.read_csv(f'datasets/{name}.csv')\n",
    "    for name in [\"COAD\"]\n",
    "}\n",
    "for name, df in datasets.items():\n",
    "    print(f\"{name}\\t: {df.shape}\")"
   ]
  },
  {
   "cell_type": "code",
   "execution_count": 5,
   "metadata": {},
   "outputs": [],
   "source": [
    "from sklearn.model_selection import StratifiedKFold\n",
    "from sklearn.metrics import accuracy_score\n",
    "from sklearn.feature_selection import SelectFromModel\n",
    "\n",
    "from sklearn.linear_model import LogisticRegression\n",
    "from sklearn.svm import LinearSVC\n",
    "\n",
    "from utils.stability_measure import StabilityMeasure\n",
    "from statistics import mean\n",
    "\n",
    "estimators = {\n",
    "    \"LR\": LogisticRegression(C=0.25, penalty='l1', solver='liblinear', max_iter=100000),\n",
    "    \"SVM\": LinearSVC(C=0.35, penalty=\"l1\", dual=False, max_iter=100000)\n",
    "}\n",
    "\n",
    "selectors = {\n",
    "    name: SelectFromModel( estimator = estimator, threshold = 1e-8, importance_getter = \"auto\")\n",
    "    for name, estimator in estimators.items()\n",
    "}\n",
    "\n",
    "class CVResult:\n",
    "    def __init__(self, n_features):\n",
    "        self.n_features = n_features # number of all features\n",
    "        self.metrics = {\n",
    "            \"accuracy\": accuracy_score\n",
    "        }\n",
    "        self.results = {}\n",
    "        self.features_sets = []\n",
    "    \n",
    "    def add_feature_set(self, feature_set):\n",
    "        self.features_sets.append(feature_set)\n",
    "\n",
    "    def evaluate(self, prefix, y_real, y_predict):\n",
    "        for name, fun in self.metrics.items():\n",
    "            key = f\"{prefix}_{name}\"\n",
    "            if key not in self.results:\n",
    "                self.results[key] = []\n",
    "            self.results[key].append(fun(y_real,y_predict))\n",
    "    \n",
    "    def summary(self):\n",
    "        results = self.results.copy()\n",
    "        results[\"fss_nogueira\"] = StabilityMeasure.Nogueira(self.features_sets, self.n_features)\n",
    "        results[\"fss_lustgarten\"] = StabilityMeasure.Lustgarten(self.features_sets, self.n_features)\n",
    "        results[\"avg_features\"] = mean(self.features_sets)\n",
    "        results[\"all_features\"] = mean(self.n_features)\n",
    "        results[\"runs\"] = len(self.features_sets)\n",
    "        return results"
   ]
  },
  {
   "cell_type": "code",
   "execution_count": 7,
   "metadata": {},
   "outputs": [
    {
     "name": "stdout",
     "output_type": "stream",
     "text": [
      "Results for COAD and 5-fold cross validation:\n",
      "<__main__.CVResult object at 0x1297ee810>\n",
      "<__main__.CVResult object at 0x1297eeed0>\n"
     ]
    }
   ],
   "source": [
    "for n_splits in [5,10]:\n",
    "    skf = StratifiedKFold(n_splits=n_splits, shuffle=True, random_state=0)\n",
    "    \n",
    "    for ds_name, df in datasets.items():\n",
    "        X = df.values[:,1:]\n",
    "        y = df.values[:,0]\n",
    "        \n",
    "        results = { name: CVResult(len(X)) for name in selectors }\n",
    "        for train_index, test_index in skf.split(X, y):\n",
    "            X_train, y_train = X[train_index], y[train_index]\n",
    "            X_test, y_test = X[test_index], y[test_index]\n",
    "            \n",
    "            for name, selector in selectors.items():\n",
    "                # calculate results on this split for every estimator/selector\n",
    "                result = results[name]\n",
    "                selector.fit(X_train, y_train)\n",
    "                selected_features_indexes = selector.get_support(indices=True)\n",
    "                result.add_feature_set(set(selected_features_indexes))\n",
    "                result.evaluate(\"train\", y_train, selector.estimator_.predict(X_train))\n",
    "                result.evaluate(\"test\", y_test, selector.estimator_.predict(X_test))\n",
    "        \n",
    "        print(f\"Results for {ds_name} and {n_splits}-fold cross validation:\")\n",
    "        for name, result in results.items():\n",
    "            print(result)"
   ]
  }
 ],
 "metadata": {
  "kernelspec": {
   "display_name": "Python 3",
   "language": "python",
   "name": "python3"
  },
  "language_info": {
   "codemirror_mode": {
    "name": "ipython",
    "version": 3
   },
   "file_extension": ".py",
   "mimetype": "text/x-python",
   "name": "python",
   "nbconvert_exporter": "python",
   "pygments_lexer": "ipython3",
   "version": "3.11.4"
  }
 },
 "nbformat": 4,
 "nbformat_minor": 2
}
