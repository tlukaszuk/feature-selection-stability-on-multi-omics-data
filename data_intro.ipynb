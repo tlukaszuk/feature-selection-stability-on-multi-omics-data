{
 "cells": [
  {
   "cell_type": "code",
   "execution_count": null,
   "metadata": {},
   "outputs": [],
   "source": [
    "import pandas as pd\n",
    "\n",
    "df = pd.read_csv('datasets/COAD.csv')\n",
    "\n",
    "df.head()"
   ]
  },
  {
   "cell_type": "code",
   "execution_count": null,
   "metadata": {},
   "outputs": [],
   "source": [
    "df.TP53_mutation.value_counts()"
   ]
  },
  {
   "cell_type": "code",
   "execution_count": null,
   "metadata": {},
   "outputs": [],
   "source": [
    "df.shape"
   ]
  },
  {
   "cell_type": "code",
   "execution_count": null,
   "metadata": {},
   "outputs": [],
   "source": [
    "feature_types = [col.split(\"_\")[-1] for col in df.columns]\n",
    "\n",
    "for t in set(feature_types):\n",
    "    print(t, feature_types.count(t))"
   ]
  },
  {
   "cell_type": "code",
   "execution_count": null,
   "metadata": {},
   "outputs": [],
   "source": [
    "# BLCA (382, 100452)\n",
    "# clinical 5\n",
    "# rna 23081\n",
    "# mutation 18577\n",
    "# mirna 825\n",
    "# cnv 57964\n",
    "\n",
    "\n",
    "# BRCA (735, 99476)\n",
    "# clinical 8\n",
    "# rna 22694\n",
    "# mutation 17975\n",
    "# mirna 835\n",
    "# cnv 57964\n",
    "\n",
    "\n",
    "# COAD (191, 99521)\n",
    "# clinical 7\n",
    "# rna 22210\n",
    "# mutation 18538\n",
    "# mirna 802\n",
    "# cnv 57964\n"
   ]
  }
 ],
 "metadata": {
  "kernelspec": {
   "display_name": "Python 3",
   "language": "python",
   "name": "python3"
  },
  "language_info": {
   "codemirror_mode": {
    "name": "ipython",
    "version": 3
   },
   "file_extension": ".py",
   "mimetype": "text/x-python",
   "name": "python",
   "nbconvert_exporter": "python",
   "pygments_lexer": "ipython3",
   "version": "3.9.7"
  }
 },
 "nbformat": 4,
 "nbformat_minor": 2
}
