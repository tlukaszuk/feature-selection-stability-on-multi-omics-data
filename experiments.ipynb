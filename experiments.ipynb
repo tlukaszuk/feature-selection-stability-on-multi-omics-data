{
 "cells": [
  {
   "cell_type": "code",
   "execution_count": null,
   "metadata": {},
   "outputs": [],
   "source": [
    "import pandas as pd\n",
    "\n",
    "df = pd.read_csv('datasets/COAD.csv')\n",
    "\n",
    "df.head()"
   ]
  },
  {
   "cell_type": "code",
   "execution_count": null,
   "metadata": {},
   "outputs": [],
   "source": [
    "# all dataset\n",
    "\n",
    "X = df.values[:,1:]\n",
    "y = df.values[:,0]\n",
    "\n",
    "X.shape, y.shape"
   ]
  },
  {
   "cell_type": "code",
   "execution_count": null,
   "metadata": {},
   "outputs": [],
   "source": [
    "from sklearn.model_selection import StratifiedKFold\n",
    "from sklearn.metrics import accuracy_score\n",
    "from sklearn.feature_selection import SelectFromModel\n",
    "\n",
    "from sklearn.linear_model import LogisticRegression\n",
    "from sklearn.svm import LinearSVC\n",
    "\n",
    "from utils.stability_measure import StabilityMeasure\n",
    "\n",
    "\n",
    "estimator = LogisticRegression(C=0.25, penalty='l1', solver='liblinear', max_iter=100000)\n",
    "#estimator = LinearSVC(C=0.35, penalty=\"l1\", dual=False, max_iter=100000)\n",
    "\n",
    "selector = SelectFromModel(\n",
    "    estimator = estimator,\n",
    "    threshold = 1e-8,\n",
    "    importance_getter = \"auto\"\n",
    ")\n",
    "\n",
    "skf = StratifiedKFold(n_splits=5, shuffle=True, random_state=0)\n",
    "\n",
    "selected_features_sets = []\n",
    "for train_index, test_index in skf.split(X, y):\n",
    "    X_train, y_train = X[train_index], y[train_index]\n",
    "    X_test, y_test = X[test_index], y[test_index]\n",
    "    selector.fit(X_train, y_train)\n",
    "    selected_features_indexes = selector.get_support(indices=True)\n",
    "    selected_features_sets.append(set(selected_features_indexes))\n",
    "    acc_train = accuracy_score(y_train, selector.estimator_.predict(X_train))\n",
    "    acc_test = accuracy_score(y_test, selector.estimator_.predict(X_test))\n",
    "    print(f\"{acc_train:.3}, {acc_test:.3}, {len(selected_features_indexes)}\")\n",
    "\n",
    "nogueira_fss = StabilityMeasure.Nogueira(selected_features_sets, X.shape[1])\n",
    "lustgarten_fss = StabilityMeasure.Lustgarten(selected_features_sets, X.shape[1])\n",
    "print(f\"Feature selection stability: {nogueira_fss:.3}, {lustgarten_fss:.3}\")\n",
    "\n",
    "# SVM\n",
    "# 1.0, 0.744, 110\n",
    "# 1.0, 0.684, 109\n",
    "# 1.0, 0.711, 100\n",
    "# 1.0, 0.711, 106\n",
    "# 1.0, 0.816, 109\n",
    "# Feature selection stability: 0.262, 0.268\n",
    "\n",
    "# LR\n",
    "# 1.0, 0.744, 84\n",
    "# 1.0, 0.684, 110\n",
    "# 1.0, 0.737, 68\n",
    "# 1.0, 0.763, 128\n",
    "# 1.0, 0.789, 110\n",
    "# Feature selection stability: 0.329, 0.384"
   ]
  }
 ],
 "metadata": {
  "kernelspec": {
   "display_name": "Python 3",
   "language": "python",
   "name": "python3"
  },
  "language_info": {
   "codemirror_mode": {
    "name": "ipython",
    "version": 3
   },
   "file_extension": ".py",
   "mimetype": "text/x-python",
   "name": "python",
   "nbconvert_exporter": "python",
   "pygments_lexer": "ipython3",
   "version": "3.9.7"
  }
 },
 "nbformat": 4,
 "nbformat_minor": 2
}
